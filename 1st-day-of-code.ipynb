{
 "cells": [
  {
   "cell_type": "code",
   "execution_count": 1,
   "id": "3370c3aa",
   "metadata": {
    "_cell_guid": "b1076dfc-b9ad-4769-8c92-a6c4dae69d19",
    "_uuid": "8f2839f25d086af736a60e9eeb907d3b93b6e0e5",
    "execution": {
     "iopub.execute_input": "2024-01-26T12:28:13.188860Z",
     "iopub.status.busy": "2024-01-26T12:28:13.188081Z",
     "iopub.status.idle": "2024-01-26T12:28:13.622289Z",
     "shell.execute_reply": "2024-01-26T12:28:13.621079Z"
    },
    "papermill": {
     "duration": 0.442131,
     "end_time": "2024-01-26T12:28:13.625074",
     "exception": false,
     "start_time": "2024-01-26T12:28:13.182943",
     "status": "completed"
    },
    "tags": []
   },
   "outputs": [],
   "source": [
    "# This Python 3 environment comes with many helpful analytics libraries installed\n",
    "# It is defined by the kaggle/python Docker image: https://github.com/kaggle/docker-python\n",
    "# For example, here's several helpful packages to load\n",
    "\n",
    "import numpy as np # linear algebra\n",
    "import pandas as pd # data processing, CSV file I/O (e.g. pd.read_csv)\n",
    "\n",
    "# Input data files are available in the read-only \"../input/\" directory\n",
    "# For example, running this (by clicking run or pressing Shift+Enter) will list all files under the input directory\n",
    "\n",
    "import os\n",
    "for dirname, _, filenames in os.walk('/kaggle/input'):\n",
    "    for filename in filenames:\n",
    "        print(os.path.join(dirname, filename))\n",
    "\n",
    "# You can write up to 20GB to the current directory (/kaggle/working/) that gets preserved as output when you create a version using \"Save & Run All\" \n",
    "# You can also write temporary files to /kaggle/temp/, but they won't be saved outside of the current session"
   ]
  },
  {
   "cell_type": "code",
   "execution_count": 2,
   "id": "671df455",
   "metadata": {
    "execution": {
     "iopub.execute_input": "2024-01-26T12:28:13.631599Z",
     "iopub.status.busy": "2024-01-26T12:28:13.631093Z",
     "iopub.status.idle": "2024-01-26T12:28:13.637567Z",
     "shell.execute_reply": "2024-01-26T12:28:13.636499Z"
    },
    "papermill": {
     "duration": 0.012919,
     "end_time": "2024-01-26T12:28:13.640504",
     "exception": false,
     "start_time": "2024-01-26T12:28:13.627585",
     "status": "completed"
    },
    "tags": []
   },
   "outputs": [
    {
     "name": "stdout",
     "output_type": "stream",
     "text": [
      "Hello Replit\n",
      "and how are you?\n",
      "😀\n",
      "\n",
      "Here's an exact\n",
      "      BIT\n",
      "        OF\n",
      "          TEXT\n",
      "\n"
     ]
    }
   ],
   "source": [
    "print(\"Hello Replit\")\n",
    "print(\"and how are you?\")\n",
    "print(\"😀\")\n",
    "\n",
    "print(\"\"\"\n",
    "Here's an exact\n",
    "      BIT\n",
    "        OF\n",
    "          TEXT\n",
    "\"\"\")"
   ]
  },
  {
   "cell_type": "code",
   "execution_count": 3,
   "id": "daa59086",
   "metadata": {
    "execution": {
     "iopub.execute_input": "2024-01-26T12:28:13.647354Z",
     "iopub.status.busy": "2024-01-26T12:28:13.646690Z",
     "iopub.status.idle": "2024-01-26T12:28:13.653605Z",
     "shell.execute_reply": "2024-01-26T12:28:13.652512Z"
    },
    "papermill": {
     "duration": 0.013638,
     "end_time": "2024-01-26T12:28:13.656587",
     "exception": false,
     "start_time": "2024-01-26T12:28:13.642949",
     "status": "completed"
    },
    "tags": []
   },
   "outputs": [
    {
     "name": "stdout",
     "output_type": "stream",
     "text": [
      "Chiemela\n",
      "September 20th 2029\n",
      "\n",
      "I am signing up for Replit's 100 days of Python challenge!\n",
      "I will make sure to spend some time every day coding along, for a minimum of 10 minutes a day.\n",
      "I'll be using Replit, an amazing online IDE so I can do this from my phone wherever I happen to be. No excuses for not coding from the middle of a field!\n",
      "I am feeling 😀\n",
      "\n",
      "You can follow my progress at replit.com/@cchiemela2\n",
      "\n"
     ]
    }
   ],
   "source": [
    "#Day 1 Challenge\n",
    "print(\"Chiemela\")\n",
    "print(\"September 20th 2029\")\n",
    "print(\"\"\"\n",
    "I am signing up for Replit's 100 days of Python challenge!\n",
    "I will make sure to spend some time every day coding along, for a minimum of 10 minutes a day.\n",
    "I'll be using Replit, an amazing online IDE so I can do this from my phone wherever I happen to be. No excuses for not coding from the middle of a field!\"\"\")\n",
    "print(\"I am feeling 😀\")\n",
    "print(\"\"\"\n",
    "You can follow my progress at replit.com/@cchiemela2\n",
    "\"\"\")"
   ]
  }
 ],
 "metadata": {
  "kaggle": {
   "accelerator": "none",
   "dataSources": [],
   "dockerImageVersionId": 30635,
   "isGpuEnabled": false,
   "isInternetEnabled": true,
   "language": "python",
   "sourceType": "notebook"
  },
  "kernelspec": {
   "display_name": "Python 3",
   "language": "python",
   "name": "python3"
  },
  "language_info": {
   "codemirror_mode": {
    "name": "ipython",
    "version": 3
   },
   "file_extension": ".py",
   "mimetype": "text/x-python",
   "name": "python",
   "nbconvert_exporter": "python",
   "pygments_lexer": "ipython3",
   "version": "3.10.12"
  },
  "papermill": {
   "default_parameters": {},
   "duration": 4.460182,
   "end_time": "2024-01-26T12:28:14.183166",
   "environment_variables": {},
   "exception": null,
   "input_path": "__notebook__.ipynb",
   "output_path": "__notebook__.ipynb",
   "parameters": {},
   "start_time": "2024-01-26T12:28:09.722984",
   "version": "2.4.0"
  }
 },
 "nbformat": 4,
 "nbformat_minor": 5
}
